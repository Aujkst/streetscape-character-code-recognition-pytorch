{
 "cells": [
  {
   "cell_type": "markdown",
   "metadata": {},
   "source": [
    "## Data Loading\n",
    "\n",
    "- pillow: https://pillow.readthedocs.io/en/stable/\n",
    "- opencv\n",
    "\n",
    "## Data Augmentation\n",
    "\n",
    "with **torchvision**\n",
    "\n",
    "- transforms.CenterCrop 对图片中心进行裁剪\n",
    "- transforms.ColorJitter 对图像颜色的对比度、饱和度和零度进行变换\n",
    "- transforms.FiveCrop 对图像四个角和中心进行裁剪得到五分图像\n",
    "- transforms.Grayscale 对图像进行灰度变换\n",
    "- transforms.Pad 使用固定值进行像素填充\n",
    "- transforms.RandomAffine 随机仿射变换\n",
    "- transforms.RandomCrop 随机区域裁剪\n",
    "- transforms.RandomHorizontalFlip 随机水平翻转\n",
    "- transforms.RandomRotation 随机旋转\n",
    "- transforms.RandomVerticalFlip 随机垂直翻转\n",
    "\n",
    "with **imgaug** https://github.com/aleju/imgaug\n",
    "\n",
    "with **albumentations** https://albumentations.readthedocs.io\n"
   ]
  },
  {
   "cell_type": "code",
   "execution_count": 2,
   "metadata": {},
   "outputs": [],
   "source": [
    "import os, sys, glob, shutil, json\n",
    "import cv2\n",
    "\n",
    "from PIL import Image\n",
    "import numpy as np\n",
    "\n",
    "import torch\n",
    "from torch.utils.data.dataset import Dataset\n",
    "import torchvision.transforms as transforms"
   ]
  },
  {
   "cell_type": "code",
   "execution_count": 3,
   "metadata": {},
   "outputs": [],
   "source": [
    "class SVHNDataset(Dataset):\n",
    "    def __init__(self, img_path, img_label, transform = None):\n",
    "        self.img_path = img_path\n",
    "        self.img_label = img_label \n",
    "        if transform is not None:\n",
    "            self.transform = transform\n",
    "        else:\n",
    "            self.transform = None\n",
    "\n",
    "    def __getitem__(self, index):\n",
    "        img = Image.open(self.img_path[index]).convert('RGB')\n",
    "\n",
    "        if self.transform is not None:\n",
    "            img = self.transform(img)\n",
    "        \n",
    "        # 原始SVHN中类别10为数字0\n",
    "        lbl = np.array(self.img_label[index], dtype = np.int)\n",
    "        lbl = list(lbl)  + (5 - len(lbl)) * [10]\n",
    "        \n",
    "        return img, torch.from_numpy(np.array(lbl[:5]))\n",
    "\n",
    "    def __len__(self):\n",
    "        return len(self.img_path)\n"
   ]
  },
  {
   "cell_type": "code",
   "execution_count": 16,
   "metadata": {},
   "outputs": [],
   "source": [
    "path = 'D:/Documents/CV-learning/Streetscape-Character-Code-Recognition-pytorch'\n",
    "\n",
    "train_path = glob.glob(path + '/input/train/train/*.png')\n",
    "train_path.sort()\n",
    "train_json = json.load(open(path + '/input/train.json'))\n",
    "train_label = [train_json[x]['label'] for x in train_json]"
   ]
  },
  {
   "cell_type": "code",
   "execution_count": 19,
   "metadata": {},
   "outputs": [],
   "source": [
    "data = SVHNDataset(train_path, \n",
    "                   train_label, \n",
    "                   transforms.Compose([\n",
    "                       # 缩放到固定尺寸\n",
    "                       transforms.Resize((64, 128)), \n",
    "                       \n",
    "                       # 随机颜色变换\n",
    "                       transforms.ColorJitter(0.2, 0.2, 0.2),\n",
    "                       \n",
    "                       # 加入随机旋转\n",
    "                       transforms.RandomRotation(5),\n",
    "                       \n",
    "                       # 将图片转换为pytorch 的tesntor\n",
    "                       # transforms.ToTensor(),\n",
    "                       \n",
    "                       # 对图像像素进行归一化\n",
    "                       # transforms.Normalize([0.485,0.456,0.406],[0.229,0.224,0.225])\n",
    "                   ]))"
   ]
  },
  {
   "cell_type": "code",
   "execution_count": 30,
   "metadata": {},
   "outputs": [],
   "source": [
    "train_loader = torch.utils.data.DataLoader(\n",
    "    SVHNDataset(train_path, train_label, \n",
    "                transforms.Compose([\n",
    "                    transforms.Resize((64, 128)),\n",
    "                    transforms.ColorJitter(0.3, 0.3, 0.2),\n",
    "                    transforms.RandomRotation(5),\n",
    "                    transforms.ToTensor(),\n",
    "                    transforms.Normalize([0.485, 0.456, 0.406], [0.229, 0.224, 0.225])\n",
    "                ])), \n",
    "    batch_size = 10, # 每批样本个数\n",
    "    shuffle = False, # 是否打乱顺序\n",
    "    num_workers = 0, # 读取的线程个数\n",
    ")\n",
    "\n",
    "for data in train_loader:\n",
    "    break"
   ]
  },
  {
   "cell_type": "code",
   "execution_count": null,
   "metadata": {},
   "outputs": [],
   "source": []
  }
 ],
 "metadata": {
  "kernelspec": {
   "display_name": "Python 3",
   "language": "python",
   "name": "python3"
  },
  "language_info": {
   "codemirror_mode": {
    "name": "ipython",
    "version": 3
   },
   "file_extension": ".py",
   "mimetype": "text/x-python",
   "name": "python",
   "nbconvert_exporter": "python",
   "pygments_lexer": "ipython3",
   "version": "3.7.4"
  }
 },
 "nbformat": 4,
 "nbformat_minor": 4
}
